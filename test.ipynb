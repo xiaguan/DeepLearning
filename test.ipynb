{
 "cells": [
  {
   "cell_type": "code",
   "execution_count": 152,
   "metadata": {
    "collapsed": true,
    "pycharm": {
     "name": "#%%\n"
    }
   },
   "outputs": [
    {
     "data": {
      "text/plain": "array([[281.0, 281.0, 281.0],\n       [283.2, 283.2, 283.2],\n       [281.4, 281.4, 281.4],\n       ...,\n       [1538.5, 1553.1, 1532.6],\n       [1553.0, 1561.2, 1546.0],\n       [1557.4, 1557.7, 1541.3]], dtype=object)"
     },
     "execution_count": 152,
     "metadata": {},
     "output_type": "execute_result"
    }
   ],
   "source": [
    "from mxnet import autograd,nd\n",
    "import pandas as pd\n",
    "import numpy as np\n",
    "data = pd.read_csv(\"./ch1/train.csv\")\n",
    "arr = np.array(data)\n",
    "arr[:4999,3:6]"
   ]
  },
  {
   "cell_type": "code",
   "execution_count": 153,
   "outputs": [
    {
     "data": {
      "text/plain": "\n[[ 281.   281.   281.   282.7    4. ]\n [ 283.2  283.2  283.2  281.1   16. ]\n [ 281.4  281.4  281.4  281.4    0. ]\n ...\n [1538.5 1553.1 1532.6 1561.   238. ]\n [1553.  1561.2 1546.  1563.7  291. ]\n [1557.4 1557.7 1541.3 1556.2  163. ]]\n<NDArray 4999x5 @cpu(0)>"
     },
     "execution_count": 153,
     "metadata": {},
     "output_type": "execute_result"
    }
   ],
   "source": [
    "features = arr[:4999,3:]\n",
    "features = nd.array(features)\n",
    "features"
   ],
   "metadata": {
    "collapsed": false,
    "pycharm": {
     "name": "#%%\n"
    }
   }
  },
  {
   "cell_type": "code",
   "execution_count": 154,
   "outputs": [
    {
     "data": {
      "text/plain": "\n[ 281.1  281.4  281.9 ... 1563.7 1556.2 1544. ]\n<NDArray 4999 @cpu(0)>"
     },
     "execution_count": 154,
     "metadata": {},
     "output_type": "execute_result"
    }
   ],
   "source": [
    "labels = arr[1:,6:7]\n",
    "labels = nd.array(labels)\n",
    "labels = labels.reshape(shape=[4999])\n",
    "labels"
   ],
   "metadata": {
    "collapsed": false,
    "pycharm": {
     "name": "#%%\n"
    }
   }
  },
  {
   "cell_type": "code",
   "execution_count": 155,
   "outputs": [
    {
     "name": "stdout",
     "output_type": "stream",
     "text": [
      "\n",
      "[[ 573.   573.   573.   573.     2. ]\n",
      " [1317.4 1317.4 1317.4 1317.4   10. ]\n",
      " [ 992.5 1009.   992.5 1008.  1393. ]\n",
      " [1064.  1068.4 1056.5 1064.2  183. ]\n",
      " [ 802.   802.   780.   787.1   29. ]\n",
      " [1415.6 1415.6 1415.6 1415.6  110. ]\n",
      " [1213.7 1214.7 1195.8 1322.9  521. ]\n",
      " [1348.8 1348.8 1348.8 1348.8   37. ]\n",
      " [1235.9 1235.9 1235.8 1359.3   73. ]\n",
      " [ 277.   277.   277.   277.     0. ]]\n",
      "<NDArray 10x5 @cpu(0)> \n",
      "[ 586.7 1318.5  999.5 1063.9  757.9 1414.  1295.9 1344.9 1361.3  275.8]\n",
      "<NDArray 10 @cpu(0)>\n"
     ]
    }
   ],
   "source": [
    "from mxnet.gluon import data as gdata\n",
    "\n",
    "# 超参数\n",
    "batch_size = 10\n",
    "dataset = gdata.ArrayDataset(features,labels)\n",
    "data_iter = gdata.DataLoader(dataset,batch_size,shuffle=True)\n",
    "\n",
    "for X,y in data_iter:\n",
    "    print(X,y)\n",
    "    break"
   ],
   "metadata": {
    "collapsed": false,
    "pycharm": {
     "name": "#%%\n"
    }
   }
  },
  {
   "cell_type": "code",
   "execution_count": 156,
   "outputs": [],
   "source": [
    "from mxnet.gluon import nn\n",
    "net = nn.Sequential()\n",
    "net.add(nn.Dense(1))"
   ],
   "metadata": {
    "collapsed": false,
    "pycharm": {
     "name": "#%%\n"
    }
   }
  },
  {
   "cell_type": "code",
   "execution_count": 157,
   "outputs": [],
   "source": [
    "from mxnet import init\n",
    "net.initialize(init.Normal(sigma=0.01))"
   ],
   "metadata": {
    "collapsed": false,
    "pycharm": {
     "name": "#%%\n"
    }
   }
  },
  {
   "cell_type": "code",
   "execution_count": 158,
   "outputs": [],
   "source": [
    "from mxnet.gluon import loss as gloss\n",
    "loss = gloss.L2Loss()"
   ],
   "metadata": {
    "collapsed": false,
    "pycharm": {
     "name": "#%%\n"
    }
   }
  },
  {
   "cell_type": "code",
   "execution_count": 159,
   "outputs": [],
   "source": [
    "from mxnet import gluon\n",
    "#第一个超参数，学习率，并不是越小越好\n",
    "trainer = gluon.Trainer(net.collect_params(),'sgd',{'learning_rate':0.000000001})"
   ],
   "metadata": {
    "collapsed": false,
    "pycharm": {
     "name": "#%%\n"
    }
   }
  },
  {
   "cell_type": "code",
   "execution_count": 160,
   "outputs": [],
   "source": [
    "test_data = np.array(pd.read_csv(\"./ch1/test.csv\"))\n",
    "test = nd.array(test_data[0:690,3:])\n",
    "true_y = test_data[1:691,6:7]\n",
    "true_y = nd.array(true_y)"
   ],
   "metadata": {
    "collapsed": false,
    "pycharm": {
     "name": "#%%\n"
    }
   }
  },
  {
   "cell_type": "code",
   "execution_count": 161,
   "outputs": [],
   "source": [
    "def test_acc():\n",
    "    return loss(net(test),true_y).mean().asnumpy()"
   ],
   "metadata": {
    "collapsed": false,
    "pycharm": {
     "name": "#%%\n"
    }
   }
  },
  {
   "cell_type": "code",
   "execution_count": 162,
   "outputs": [
    {
     "name": "stdout",
     "output_type": "stream",
     "text": [
      "epoch 1,loss: 7556.174316 test_lost: 27591.605469\n",
      "epoch 2,loss: 351.429443 test_lost: 521.468689\n",
      "epoch 3,loss: 258.950500 test_lost: 297.154633\n",
      "epoch 4,loss: 257.274231 test_lost: 242.258499\n",
      "epoch 5,loss: 257.156067 test_lost: 243.840790\n",
      "epoch 6,loss: 257.158813 test_lost: 248.009537\n",
      "epoch 7,loss: 257.226379 test_lost: 246.651138\n",
      "epoch 8,loss: 257.017609 test_lost: 243.123688\n",
      "epoch 9,loss: 256.991516 test_lost: 244.455963\n",
      "epoch 10,loss: 257.643982 test_lost: 283.432007\n"
     ]
    }
   ],
   "source": [
    "num_epochs = 10\n",
    "for epoch in range(1,num_epochs+1):\n",
    "    for X,y in data_iter:\n",
    "        with autograd.record():\n",
    "            l = loss(net(X),y)\n",
    "        l.backward()\n",
    "        trainer.step(batch_size)\n",
    "    l = loss(net(features),labels)\n",
    "    print('epoch %d,loss: %f test_lost: %f' % (epoch,l.mean().asnumpy(),test_acc()))"
   ],
   "metadata": {
    "collapsed": false,
    "pycharm": {
     "name": "#%%\n"
    }
   }
  },
  {
   "cell_type": "code",
   "execution_count": 163,
   "outputs": [
    {
     "data": {
      "text/plain": "\n[[ 2.7701187e-01  2.4466503e-01  2.3281887e-01  2.4825041e-01\n  -1.7844135e-04]]\n<NDArray 1x5 @cpu(0)>"
     },
     "execution_count": 163,
     "metadata": {},
     "output_type": "execute_result"
    }
   ],
   "source": [
    "dense = net[0]\n",
    "dense.weight.data()"
   ],
   "metadata": {
    "collapsed": false,
    "pycharm": {
     "name": "#%%\n"
    }
   }
  },
  {
   "cell_type": "code",
   "execution_count": 164,
   "outputs": [
    {
     "data": {
      "text/plain": "\n[0.00021783]\n<NDArray 1 @cpu(0)>"
     },
     "execution_count": 164,
     "metadata": {},
     "output_type": "execute_result"
    }
   ],
   "source": [
    "dense.bias.data()"
   ],
   "metadata": {
    "collapsed": false,
    "pycharm": {
     "name": "#%%\n"
    }
   }
  }
 ],
 "metadata": {
  "kernelspec": {
   "display_name": "Python 3",
   "language": "python",
   "name": "python3"
  },
  "language_info": {
   "codemirror_mode": {
    "name": "ipython",
    "version": 2
   },
   "file_extension": ".py",
   "mimetype": "text/x-python",
   "name": "python",
   "nbconvert_exporter": "python",
   "pygments_lexer": "ipython2",
   "version": "2.7.6"
  }
 },
 "nbformat": 4,
 "nbformat_minor": 0
}