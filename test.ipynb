{
 "cells": [
  {
   "cell_type": "code",
   "execution_count": 113,
   "metadata": {
    "collapsed": true,
    "pycharm": {
     "name": "#%%\n"
    }
   },
   "outputs": [],
   "source": [
    "from mxnet import autograd,nd\n",
    "\n",
    "num_inputs = 2\n",
    "num_size = 10000\n",
    "true_w = [2,-3.2]\n",
    "true_b = 3.14\n",
    "features = nd.random.normal(scale=1,shape=(num_size,num_inputs))\n"
   ]
  },
  {
   "cell_type": "code",
   "execution_count": 114,
   "outputs": [],
   "source": [
    "labels = true_w[0] * features[:,0] + true_w[1] * features[:,1]+true_b\n",
    "labels += nd.random.normal(scale=1,shape=labels.shape)"
   ],
   "metadata": {
    "collapsed": false,
    "pycharm": {
     "name": "#%%\n"
    }
   }
  },
  {
   "cell_type": "code",
   "execution_count": 115,
   "outputs": [],
   "source": [
    "from mxnet.gluon import data as gdata\n",
    "\n",
    "batch_size = 100\n",
    "dataset = gdata.ArrayDataset(features,labels)\n",
    "data_iter = gdata.DataLoader(dataset,batch_size,shuffle=True)\n"
   ],
   "metadata": {
    "collapsed": false,
    "pycharm": {
     "name": "#%%\n"
    }
   }
  },
  {
   "cell_type": "code",
   "execution_count": 116,
   "outputs": [
    {
     "name": "stdout",
     "output_type": "stream",
     "text": [
      "\n",
      "[[ 1.0079473  -0.92134404]\n",
      " [-0.1713012  -2.0279496 ]\n",
      " [ 0.17844214  1.2301452 ]\n",
      " [ 1.9136347  -0.2552128 ]\n",
      " [-1.3627725   0.29322797]\n",
      " [-0.7284469  -0.28493327]\n",
      " [ 0.455459   -1.804643  ]\n",
      " [ 0.21885672 -0.6000325 ]\n",
      " [-0.33976445 -1.0621741 ]\n",
      " [ 0.8249318  -0.8975398 ]\n",
      " [ 0.15928647 -1.2259878 ]\n",
      " [ 0.5304128   0.79565233]\n",
      " [-0.05923939  0.4199652 ]\n",
      " [ 0.6312917   0.2981324 ]\n",
      " [ 1.6292155  -0.8225457 ]\n",
      " [ 1.0946896  -0.75263286]\n",
      " [-1.3622835  -0.15089722]\n",
      " [-0.30975538  0.49526563]\n",
      " [-0.70850074 -0.46241572]\n",
      " [-1.3878338  -1.5773487 ]\n",
      " [-1.0841727   0.2738722 ]\n",
      " [ 0.64483684  0.64754814]\n",
      " [ 0.22348242  0.8039566 ]\n",
      " [ 1.2408583  -0.2700648 ]\n",
      " [-0.2594816  -1.1977301 ]\n",
      " [-0.9683042   0.47630695]\n",
      " [-1.4225953   0.34209248]\n",
      " [ 0.45120686  0.16028827]\n",
      " [-1.2357953   0.0454513 ]\n",
      " [-0.18503524 -0.38905144]\n",
      " [ 0.43760237  0.42225602]\n",
      " [ 0.8279446   0.7741935 ]\n",
      " [-0.60103893 -0.63199747]\n",
      " [-0.75594324  0.35959494]\n",
      " [-1.0656114   0.08963902]\n",
      " [-0.5513665  -0.6802282 ]\n",
      " [ 0.44665855  0.16457188]\n",
      " [-2.5650249   1.9723567 ]\n",
      " [ 0.27628574 -1.0897584 ]\n",
      " [-0.04849562 -1.5187426 ]\n",
      " [ 0.80876696  1.0928285 ]\n",
      " [ 0.8553943  -1.3893431 ]\n",
      " [-1.0609819  -0.47392163]\n",
      " [ 0.25822562  1.4498721 ]\n",
      " [ 0.6178271   2.230714  ]\n",
      " [ 0.277782   -0.50019   ]\n",
      " [-0.7800924  -0.15159662]\n",
      " [ 0.24866302  0.07536118]\n",
      " [ 0.8315565   0.0381857 ]\n",
      " [-0.9694545  -1.0096397 ]\n",
      " [-1.9105357   0.17444357]\n",
      " [ 1.4123398  -1.3255515 ]\n",
      " [ 1.7812912   0.26943177]\n",
      " [ 0.60179013  0.58803195]\n",
      " [ 0.6873426   1.2836825 ]\n",
      " [-1.6117859   0.18790774]\n",
      " [-2.5012877  -0.67666054]\n",
      " [-1.5182723  -0.56543654]\n",
      " [ 0.05860081  0.01127906]\n",
      " [ 1.3994968  -0.5022264 ]\n",
      " [ 0.47802344 -1.0545291 ]\n",
      " [ 0.42818436 -0.29246122]\n",
      " [ 0.64745617  0.95846254]\n",
      " [-0.16342677 -1.1703737 ]\n",
      " [-0.10232777 -0.61957717]\n",
      " [-0.3502577  -0.39807248]\n",
      " [ 1.7617375   0.92640835]\n",
      " [-0.91030526 -3.0496204 ]\n",
      " [ 0.8776489  -0.08548721]\n",
      " [ 1.6711016  -0.6484778 ]\n",
      " [ 0.50002015  0.98859847]\n",
      " [ 1.2734056   1.7710881 ]\n",
      " [ 1.4782017  -0.71449536]\n",
      " [ 0.9291992   0.94965076]\n",
      " [-1.8640957  -0.4832977 ]\n",
      " [ 0.42353174 -2.1329687 ]\n",
      " [ 0.06776132 -0.7246615 ]\n",
      " [ 1.1848319   0.10362896]\n",
      " [-1.0785707  -0.476799  ]\n",
      " [-1.1098876   1.8717527 ]\n",
      " [-0.15995361 -0.962541  ]\n",
      " [ 1.1109107  -1.8272135 ]\n",
      " [ 1.4462206  -2.3643079 ]\n",
      " [-0.37458742 -0.43784818]\n",
      " [ 0.7936154   0.5664929 ]\n",
      " [ 0.1592633   1.5144953 ]\n",
      " [-0.8274581  -1.3545674 ]\n",
      " [-0.6150665   0.651578  ]\n",
      " [-0.5244468   0.22410049]\n",
      " [ 0.59812593  1.0227461 ]\n",
      " [-0.7096027  -0.93099844]\n",
      " [ 0.23679566  0.7425012 ]\n",
      " [-0.61015266  0.31399754]\n",
      " [-0.35443592  0.05766764]\n",
      " [ 3.2182279   2.9530811 ]\n",
      " [ 0.7816347  -0.81857276]\n",
      " [ 1.1323717  -2.0132554 ]\n",
      " [ 1.6171759  -0.6397065 ]\n",
      " [ 2.2060905   1.009895  ]\n",
      " [ 0.04824222  0.5596641 ]]\n",
      "<NDArray 100x2 @cpu(0)> \n",
      "[ 6.9905968e+00  1.1645141e+01 -1.2646052e-01  8.0476837e+00\n",
      " -8.4906697e-01  1.7792299e+00  1.0721404e+01  5.7824597e+00\n",
      "  3.3330448e+00  7.6079812e+00  8.5828924e+00  1.1388618e+00\n",
      "  2.4556375e+00  2.8605652e+00  9.4416447e+00  7.4299779e+00\n",
      "  1.3088568e+00  3.4391910e-01  2.3351965e+00  4.5782328e+00\n",
      " -2.1547034e+00  2.3739045e+00  1.0452802e+00  6.6574936e+00\n",
      "  7.5051327e+00  3.7034369e-01 -2.7173162e-01  2.4081264e+00\n",
      "  1.3016574e+00  4.6456447e+00  3.0435781e+00  2.2251525e+00\n",
      "  4.0597224e+00  1.0777676e+00  1.6408632e+00  4.4727650e+00\n",
      "  4.3228049e+00 -6.9088173e+00  6.2445211e+00  6.0826759e+00\n",
      "  1.0650846e+00  9.6713247e+00  2.6212811e+00 -1.0726724e+00\n",
      " -2.3770947e+00  4.8781924e+00  2.7646112e+00  2.9839203e+00\n",
      "  4.9713883e+00  2.9477077e+00 -8.4136665e-01  7.3268995e+00\n",
      "  6.1541061e+00  4.8280764e+00 -4.9097747e-01 -5.1003259e-01\n",
      "  4.7633410e-01  1.9268618e+00  3.3834906e+00  6.6805534e+00\n",
      "  8.1382284e+00  4.6319752e+00  8.7372386e-01  4.8284249e+00\n",
      "  5.3542995e+00  3.8268256e+00  4.0996923e+00  1.1272219e+01\n",
      "  6.4616203e+00  8.2228727e+00  9.5214713e-01  1.3756756e+00\n",
      "  6.6607499e+00  2.4305062e+00  1.6668832e+00  1.2365225e+01\n",
      "  6.5270972e+00  4.5614710e+00  2.4156747e+00 -5.4542694e+00\n",
      "  5.8667336e+00  1.1500229e+01  1.3699946e+01  4.6699171e+00\n",
      "  1.8583649e+00  9.3982220e-03  6.8677125e+00 -1.3029163e+00\n",
      "  2.3591900e+00  1.7701428e+00  5.0951028e+00 -4.2570865e-01\n",
      "  1.3620498e+00  1.9169004e+00  3.6865845e-02  6.6013403e+00\n",
      "  1.2020848e+01  8.1039000e+00  3.8815794e+00  2.0585642e+00]\n",
      "<NDArray 100 @cpu(0)>\n"
     ]
    }
   ],
   "source": [
    "for x,y in data_iter:\n",
    "    print(x,y)\n",
    "    break"
   ],
   "metadata": {
    "collapsed": false,
    "pycharm": {
     "name": "#%%\n"
    }
   }
  },
  {
   "cell_type": "code",
   "execution_count": 117,
   "outputs": [],
   "source": [
    "from mxnet.gluon import nn\n",
    "net = nn.Sequential()\n",
    "net.add(nn.Dense(1))"
   ],
   "metadata": {
    "collapsed": false,
    "pycharm": {
     "name": "#%%\n"
    }
   }
  },
  {
   "cell_type": "code",
   "execution_count": 118,
   "outputs": [],
   "source": [
    "from mxnet import init\n",
    "net.initialize(init.Normal(sigma=0.01))"
   ],
   "metadata": {
    "collapsed": false,
    "pycharm": {
     "name": "#%%\n"
    }
   }
  },
  {
   "cell_type": "code",
   "execution_count": 119,
   "outputs": [],
   "source": [
    "from mxnet.gluon import loss as gloss\n",
    "loss = gloss.L2Loss()"
   ],
   "metadata": {
    "collapsed": false,
    "pycharm": {
     "name": "#%%\n"
    }
   }
  },
  {
   "cell_type": "code",
   "execution_count": 120,
   "outputs": [],
   "source": [
    "from mxnet import gluon\n",
    "trainer = gluon.Trainer(net.collect_params(),'sgd',{'learning_rate':0.01})"
   ],
   "metadata": {
    "collapsed": false,
    "pycharm": {
     "name": "#%%\n"
    }
   }
  },
  {
   "cell_type": "code",
   "execution_count": 121,
   "outputs": [
    {
     "name": "stdout",
     "output_type": "stream",
     "text": [
      "epoch 1,loss: 2.089010 \n",
      "epoch 2,loss: 0.704697 \n",
      "epoch 3,loss: 0.523008 \n",
      "epoch 4,loss: 0.499194 \n",
      "epoch 5,loss: 0.495832 \n",
      "epoch 6,loss: 0.495516 \n",
      "epoch 7,loss: 0.495421 \n",
      "epoch 8,loss: 0.495414 \n",
      "epoch 9,loss: 0.495422 \n",
      "epoch 10,loss: 0.495417 \n"
     ]
    }
   ],
   "source": [
    "num_epochs = 10\n",
    "for epoch in range(1,num_epochs+1):\n",
    "    for X,y in data_iter:\n",
    "        with autograd.record():\n",
    "            l = loss(net(X),y)\n",
    "        l.backward()\n",
    "        trainer.step(batch_size)\n",
    "    l = loss(net(features),labels)\n",
    "    print('epoch %d,loss: %f ' % (epoch,l.mean().asnumpy()))"
   ],
   "metadata": {
    "collapsed": false,
    "pycharm": {
     "name": "#%%\n"
    }
   }
  },
  {
   "cell_type": "code",
   "execution_count": 122,
   "outputs": [
    {
     "data": {
      "text/plain": "\n[[ 1.9933279 -3.1966467]]\n<NDArray 1x2 @cpu(0)>"
     },
     "execution_count": 122,
     "metadata": {},
     "output_type": "execute_result"
    }
   ],
   "source": [
    "dense = net[0]\n",
    "dense.weight.data()"
   ],
   "metadata": {
    "collapsed": false,
    "pycharm": {
     "name": "#%%\n"
    }
   }
  },
  {
   "cell_type": "code",
   "execution_count": 123,
   "outputs": [
    {
     "data": {
      "text/plain": "\n[3.1334164]\n<NDArray 1 @cpu(0)>"
     },
     "execution_count": 123,
     "metadata": {},
     "output_type": "execute_result"
    }
   ],
   "source": [
    "dense.bias.data()"
   ],
   "metadata": {
    "collapsed": false,
    "pycharm": {
     "name": "#%%\n"
    }
   }
  },
  {
   "cell_type": "code",
   "execution_count": 123,
   "outputs": [],
   "source": [],
   "metadata": {
    "collapsed": false,
    "pycharm": {
     "name": "#%%\n"
    }
   }
  }
 ],
 "metadata": {
  "kernelspec": {
   "display_name": "Python 3",
   "language": "python",
   "name": "python3"
  },
  "language_info": {
   "codemirror_mode": {
    "name": "ipython",
    "version": 2
   },
   "file_extension": ".py",
   "mimetype": "text/x-python",
   "name": "python",
   "nbconvert_exporter": "python",
   "pygments_lexer": "ipython2",
   "version": "2.7.6"
  }
 },
 "nbformat": 4,
 "nbformat_minor": 0
}