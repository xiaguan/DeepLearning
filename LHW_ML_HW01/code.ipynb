{
 "cells": [
  {
   "cell_type": "code",
   "execution_count": 7,
   "outputs": [
    {
     "name": "stdout",
     "output_type": "stream",
     "text": [
      "(2699, 118)\n"
     ]
    },
    {
     "data": {
      "text/plain": "   id  AL  AK  AZ  AR  CA  CO  CT  FL  GA  ...  work_outside_home.4  \\\n0   0   0   0   0   0   0   0   0   1   0  ...            31.113209   \n1   1   0   0   0   0   0   1   0   0   0  ...            33.920257   \n2   2   0   0   0   0   0   0   0   0   0  ...            31.604604   \n3   3   0   0   0   0   0   0   0   0   0  ...            35.115738   \n4   4   0   0   0   0   0   0   0   0   0  ...            35.129714   \n\n      shop.4  restaurant.4  spent_time.4  large_event.4  public_transit.4  \\\n0  67.394551     36.674291     40.743132      17.842221          4.093712   \n1  64.398380     34.612238     44.035688      17.808103          4.924935   \n2  62.101064     26.521875     36.746453      13.903667          7.313833   \n3  67.935520     38.022492     48.434809      27.134876          3.101904   \n4  69.934592     38.242368     49.095933      22.683709          4.594620   \n\n   anxious.4  depressed.4  worried_finances.4  tested_positive.4  \n0  10.440071     8.627117           37.329512           7.456154  \n1  10.172662     9.954333           32.508881           8.010957  \n2  10.388712     7.956139           36.745588           2.906977  \n3  10.498683     8.231522           38.680162          12.575816  \n4   9.878927     9.469290           28.344123          21.428589  \n\n[5 rows x 118 columns]",
      "text/html": "<div>\n<style scoped>\n    .dataframe tbody tr th:only-of-type {\n        vertical-align: middle;\n    }\n\n    .dataframe tbody tr th {\n        vertical-align: top;\n    }\n\n    .dataframe thead th {\n        text-align: right;\n    }\n</style>\n<table border=\"1\" class=\"dataframe\">\n  <thead>\n    <tr style=\"text-align: right;\">\n      <th></th>\n      <th>id</th>\n      <th>AL</th>\n      <th>AK</th>\n      <th>AZ</th>\n      <th>AR</th>\n      <th>CA</th>\n      <th>CO</th>\n      <th>CT</th>\n      <th>FL</th>\n      <th>GA</th>\n      <th>...</th>\n      <th>work_outside_home.4</th>\n      <th>shop.4</th>\n      <th>restaurant.4</th>\n      <th>spent_time.4</th>\n      <th>large_event.4</th>\n      <th>public_transit.4</th>\n      <th>anxious.4</th>\n      <th>depressed.4</th>\n      <th>worried_finances.4</th>\n      <th>tested_positive.4</th>\n    </tr>\n  </thead>\n  <tbody>\n    <tr>\n      <th>0</th>\n      <td>0</td>\n      <td>0</td>\n      <td>0</td>\n      <td>0</td>\n      <td>0</td>\n      <td>0</td>\n      <td>0</td>\n      <td>0</td>\n      <td>1</td>\n      <td>0</td>\n      <td>...</td>\n      <td>31.113209</td>\n      <td>67.394551</td>\n      <td>36.674291</td>\n      <td>40.743132</td>\n      <td>17.842221</td>\n      <td>4.093712</td>\n      <td>10.440071</td>\n      <td>8.627117</td>\n      <td>37.329512</td>\n      <td>7.456154</td>\n    </tr>\n    <tr>\n      <th>1</th>\n      <td>1</td>\n      <td>0</td>\n      <td>0</td>\n      <td>0</td>\n      <td>0</td>\n      <td>0</td>\n      <td>1</td>\n      <td>0</td>\n      <td>0</td>\n      <td>0</td>\n      <td>...</td>\n      <td>33.920257</td>\n      <td>64.398380</td>\n      <td>34.612238</td>\n      <td>44.035688</td>\n      <td>17.808103</td>\n      <td>4.924935</td>\n      <td>10.172662</td>\n      <td>9.954333</td>\n      <td>32.508881</td>\n      <td>8.010957</td>\n    </tr>\n    <tr>\n      <th>2</th>\n      <td>2</td>\n      <td>0</td>\n      <td>0</td>\n      <td>0</td>\n      <td>0</td>\n      <td>0</td>\n      <td>0</td>\n      <td>0</td>\n      <td>0</td>\n      <td>0</td>\n      <td>...</td>\n      <td>31.604604</td>\n      <td>62.101064</td>\n      <td>26.521875</td>\n      <td>36.746453</td>\n      <td>13.903667</td>\n      <td>7.313833</td>\n      <td>10.388712</td>\n      <td>7.956139</td>\n      <td>36.745588</td>\n      <td>2.906977</td>\n    </tr>\n    <tr>\n      <th>3</th>\n      <td>3</td>\n      <td>0</td>\n      <td>0</td>\n      <td>0</td>\n      <td>0</td>\n      <td>0</td>\n      <td>0</td>\n      <td>0</td>\n      <td>0</td>\n      <td>0</td>\n      <td>...</td>\n      <td>35.115738</td>\n      <td>67.935520</td>\n      <td>38.022492</td>\n      <td>48.434809</td>\n      <td>27.134876</td>\n      <td>3.101904</td>\n      <td>10.498683</td>\n      <td>8.231522</td>\n      <td>38.680162</td>\n      <td>12.575816</td>\n    </tr>\n    <tr>\n      <th>4</th>\n      <td>4</td>\n      <td>0</td>\n      <td>0</td>\n      <td>0</td>\n      <td>0</td>\n      <td>0</td>\n      <td>0</td>\n      <td>0</td>\n      <td>0</td>\n      <td>0</td>\n      <td>...</td>\n      <td>35.129714</td>\n      <td>69.934592</td>\n      <td>38.242368</td>\n      <td>49.095933</td>\n      <td>22.683709</td>\n      <td>4.594620</td>\n      <td>9.878927</td>\n      <td>9.469290</td>\n      <td>28.344123</td>\n      <td>21.428589</td>\n    </tr>\n  </tbody>\n</table>\n<p>5 rows × 118 columns</p>\n</div>"
     },
     "execution_count": 7,
     "metadata": {},
     "output_type": "execute_result"
    }
   ],
   "source": [
    "import pandas as pd\n",
    "import numpy as np\n",
    "\n",
    "train_data = pd.read_csv('covid.train.csv')\n",
    "test_data = pd.read_csv('covid.test.csv')\n",
    "print(train_data.shape)\n",
    "train_data.head()"
   ],
   "metadata": {
    "collapsed": false,
    "pycharm": {
     "name": "#%%\n"
    }
   }
  },
  {
   "cell_type": "code",
   "execution_count": 8,
   "outputs": [
    {
     "data": {
      "text/plain": "   id  AL  AK  AZ  AR  CA  CO  CT  FL  GA  ...  travel_outside_state.4  \\\n0   0   0   0   0   0   0   0   0   0   0  ...               18.463415   \n1   1   0   0   0   0   0   0   0   0   0  ...               24.201702   \n2   2   0   0   0   0   0   0   0   0   0  ...               13.742657   \n3   3   0   0   0   0   0   0   0   0   0  ...               13.763442   \n4   4   0   0   0   0   0   0   0   0   0  ...               14.427636   \n\n   work_outside_home.4     shop.4  restaurant.4  spent_time.4  large_event.4  \\\n0            32.470622  65.236954     31.730028     42.031183      18.188452   \n1            31.499036  60.360030     28.319417     39.919723      16.614292   \n2            28.696996  66.114428     31.211381     40.448538      16.998722   \n3            27.907935  66.581525     29.112434     41.123571      13.949904   \n4            37.623197  66.502657     29.716613     41.790256      18.855524   \n\n   public_transit.4  anxious.4  depressed.4  worried_finances.4  \n0          3.472105  12.452570     9.400024           30.550873  \n1          5.992332  11.747528     7.438606           35.364871  \n2         13.951631  12.898089    10.214711           37.028705  \n3          5.337427  14.944972    11.556292           32.146346  \n4          3.015219  15.225684    10.126752           39.163694  \n\n[5 rows x 117 columns]",
      "text/html": "<div>\n<style scoped>\n    .dataframe tbody tr th:only-of-type {\n        vertical-align: middle;\n    }\n\n    .dataframe tbody tr th {\n        vertical-align: top;\n    }\n\n    .dataframe thead th {\n        text-align: right;\n    }\n</style>\n<table border=\"1\" class=\"dataframe\">\n  <thead>\n    <tr style=\"text-align: right;\">\n      <th></th>\n      <th>id</th>\n      <th>AL</th>\n      <th>AK</th>\n      <th>AZ</th>\n      <th>AR</th>\n      <th>CA</th>\n      <th>CO</th>\n      <th>CT</th>\n      <th>FL</th>\n      <th>GA</th>\n      <th>...</th>\n      <th>travel_outside_state.4</th>\n      <th>work_outside_home.4</th>\n      <th>shop.4</th>\n      <th>restaurant.4</th>\n      <th>spent_time.4</th>\n      <th>large_event.4</th>\n      <th>public_transit.4</th>\n      <th>anxious.4</th>\n      <th>depressed.4</th>\n      <th>worried_finances.4</th>\n    </tr>\n  </thead>\n  <tbody>\n    <tr>\n      <th>0</th>\n      <td>0</td>\n      <td>0</td>\n      <td>0</td>\n      <td>0</td>\n      <td>0</td>\n      <td>0</td>\n      <td>0</td>\n      <td>0</td>\n      <td>0</td>\n      <td>0</td>\n      <td>...</td>\n      <td>18.463415</td>\n      <td>32.470622</td>\n      <td>65.236954</td>\n      <td>31.730028</td>\n      <td>42.031183</td>\n      <td>18.188452</td>\n      <td>3.472105</td>\n      <td>12.452570</td>\n      <td>9.400024</td>\n      <td>30.550873</td>\n    </tr>\n    <tr>\n      <th>1</th>\n      <td>1</td>\n      <td>0</td>\n      <td>0</td>\n      <td>0</td>\n      <td>0</td>\n      <td>0</td>\n      <td>0</td>\n      <td>0</td>\n      <td>0</td>\n      <td>0</td>\n      <td>...</td>\n      <td>24.201702</td>\n      <td>31.499036</td>\n      <td>60.360030</td>\n      <td>28.319417</td>\n      <td>39.919723</td>\n      <td>16.614292</td>\n      <td>5.992332</td>\n      <td>11.747528</td>\n      <td>7.438606</td>\n      <td>35.364871</td>\n    </tr>\n    <tr>\n      <th>2</th>\n      <td>2</td>\n      <td>0</td>\n      <td>0</td>\n      <td>0</td>\n      <td>0</td>\n      <td>0</td>\n      <td>0</td>\n      <td>0</td>\n      <td>0</td>\n      <td>0</td>\n      <td>...</td>\n      <td>13.742657</td>\n      <td>28.696996</td>\n      <td>66.114428</td>\n      <td>31.211381</td>\n      <td>40.448538</td>\n      <td>16.998722</td>\n      <td>13.951631</td>\n      <td>12.898089</td>\n      <td>10.214711</td>\n      <td>37.028705</td>\n    </tr>\n    <tr>\n      <th>3</th>\n      <td>3</td>\n      <td>0</td>\n      <td>0</td>\n      <td>0</td>\n      <td>0</td>\n      <td>0</td>\n      <td>0</td>\n      <td>0</td>\n      <td>0</td>\n      <td>0</td>\n      <td>...</td>\n      <td>13.763442</td>\n      <td>27.907935</td>\n      <td>66.581525</td>\n      <td>29.112434</td>\n      <td>41.123571</td>\n      <td>13.949904</td>\n      <td>5.337427</td>\n      <td>14.944972</td>\n      <td>11.556292</td>\n      <td>32.146346</td>\n    </tr>\n    <tr>\n      <th>4</th>\n      <td>4</td>\n      <td>0</td>\n      <td>0</td>\n      <td>0</td>\n      <td>0</td>\n      <td>0</td>\n      <td>0</td>\n      <td>0</td>\n      <td>0</td>\n      <td>0</td>\n      <td>...</td>\n      <td>14.427636</td>\n      <td>37.623197</td>\n      <td>66.502657</td>\n      <td>29.716613</td>\n      <td>41.790256</td>\n      <td>18.855524</td>\n      <td>3.015219</td>\n      <td>15.225684</td>\n      <td>10.126752</td>\n      <td>39.163694</td>\n    </tr>\n  </tbody>\n</table>\n<p>5 rows × 117 columns</p>\n</div>"
     },
     "execution_count": 8,
     "metadata": {},
     "output_type": "execute_result"
    }
   ],
   "source": [
    "test_data.head()"
   ],
   "metadata": {
    "collapsed": false,
    "pycharm": {
     "name": "#%%\n"
    }
   }
  },
  {
   "cell_type": "markdown",
   "source": [
    "通过这两个的比较，我们知道，我们需要使用前117列数据来预测第118列的数据，还是欠缺了很多东西，这里简单跑一个线性回归\n",
    "处理features和labels就行，然后跑一下test"
   ],
   "metadata": {
    "collapsed": false,
    "pycharm": {
     "name": "#%% md\n"
    }
   }
  },
  {
   "cell_type": "code",
   "execution_count": 9,
   "outputs": [
    {
     "data": {
      "text/plain": "array([[ 7.4561538],\n       [ 8.010957 ],\n       [ 2.9069774],\n       ...,\n       [13.6182563],\n       [ 9.5125846],\n       [11.0694227]])"
     },
     "execution_count": 9,
     "metadata": {},
     "output_type": "execute_result"
    }
   ],
   "source": [
    "features = np.array(train_data)[0:,:117]\n",
    "labels = np.array(train_data)[0:,117:]\n",
    "labels"
   ],
   "metadata": {
    "collapsed": false,
    "pycharm": {
     "name": "#%%\n"
    }
   }
  },
  {
   "cell_type": "code",
   "execution_count": 10,
   "outputs": [
    {
     "ename": "ModuleNotFoundError",
     "evalue": "No module named 'mxnet'",
     "output_type": "error",
     "traceback": [
      "\u001B[1;31m---------------------------------------------------------------------------\u001B[0m",
      "\u001B[1;31mModuleNotFoundError\u001B[0m                       Traceback (most recent call last)",
      "Input \u001B[1;32mIn [10]\u001B[0m, in \u001B[0;36m<cell line: 1>\u001B[1;34m()\u001B[0m\n\u001B[1;32m----> 1\u001B[0m \u001B[38;5;28;01mfrom\u001B[39;00m \u001B[38;5;21;01mmxnet\u001B[39;00m \u001B[38;5;28;01mimport\u001B[39;00m ndarray \u001B[38;5;28;01mas\u001B[39;00m nd\n\u001B[0;32m      2\u001B[0m features \u001B[38;5;241m=\u001B[39m nd\u001B[38;5;241m.\u001B[39marray(features)\n\u001B[0;32m      3\u001B[0m labels \u001B[38;5;241m=\u001B[39m nd\u001B[38;5;241m.\u001B[39marray(labels)\n",
      "\u001B[1;31mModuleNotFoundError\u001B[0m: No module named 'mxnet'"
     ]
    }
   ],
   "source": [
    "from mxnet import ndarray as nd\n",
    "features = nd.array(features)\n",
    "labels = nd.array(labels)\n",
    "labels = labels.reshape(shape=[2699])"
   ],
   "metadata": {
    "collapsed": false,
    "pycharm": {
     "name": "#%%\n"
    }
   }
  },
  {
   "cell_type": "code",
   "execution_count": null,
   "outputs": [],
   "source": [
    "from mxnet.gluon import data as gdata\n",
    "\n",
    "# 超参数\n",
    "batch_size = 5\n",
    "dataset = gdata.ArrayDataset(features,labels)\n",
    "data_iter = gdata.DataLoader(dataset,batch_size,shuffle=True)\n",
    "\n",
    "for X,y in data_iter:\n",
    "    print(X,y)\n",
    "    break"
   ],
   "metadata": {
    "collapsed": false,
    "pycharm": {
     "name": "#%%\n"
    }
   }
  },
  {
   "cell_type": "code",
   "execution_count": null,
   "outputs": [],
   "source": [
    "from mxnet.gluon import nn\n",
    "net = nn.Sequential()\n",
    "net.add(nn.Dense(2000,activation='relu'),nn.Dense(1))\n",
    "\n",
    "from mxnet import init\n",
    "net.initialize(init.Normal(sigma=0.01))\n",
    "\n",
    "from mxnet.gluon import loss as gloss\n",
    "\n",
    "loss = gloss.L2Loss()\n",
    "\n",
    "from mxnet import gluon\n",
    "trainer = gluon.Trainer(net.collect_params(),'sgd',{'learning_rate':0.00000000001})"
   ],
   "metadata": {
    "collapsed": false,
    "pycharm": {
     "name": "#%%\n"
    }
   }
  },
  {
   "cell_type": "code",
   "execution_count": null,
   "outputs": [],
   "source": [
    "from mxnet import autograd,nd\n",
    "num_epochs = 1000\n",
    "for epoch in range(1,num_epochs+1):\n",
    "    for X,y in data_iter:\n",
    "        with autograd.record():\n",
    "            l = loss(net(X),y)\n",
    "        l.backward()\n",
    "        trainer.step(batch_size)\n",
    "    l = loss(net(features),labels)\n",
    "    print('epoch %d,loss: %f' % (epoch,l.mean().asnumpy()))"
   ],
   "metadata": {
    "collapsed": false,
    "pycharm": {
     "name": "#%%\n"
    }
   }
  },
  {
   "cell_type": "code",
   "execution_count": null,
   "outputs": [],
   "source": [
    "test = nd.array(test_data)\n",
    "y_hat = net(test)\n",
    "y_hat.asnumpy()"
   ],
   "metadata": {
    "collapsed": false,
    "pycharm": {
     "name": "#%%\n"
    }
   }
  },
  {
   "cell_type": "code",
   "execution_count": null,
   "outputs": [],
   "source": [],
   "metadata": {
    "collapsed": false,
    "pycharm": {
     "name": "#%%\n"
    }
   }
  }
 ],
 "metadata": {
  "kernelspec": {
   "display_name": "Python 3",
   "language": "python",
   "name": "python3"
  },
  "language_info": {
   "codemirror_mode": {
    "name": "ipython",
    "version": 2
   },
   "file_extension": ".py",
   "mimetype": "text/x-python",
   "name": "python",
   "nbconvert_exporter": "python",
   "pygments_lexer": "ipython2",
   "version": "2.7.6"
  }
 },
 "nbformat": 4,
 "nbformat_minor": 0
}