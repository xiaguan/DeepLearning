{
 "cells": [
  {
   "cell_type": "code",
   "execution_count": 27,
   "metadata": {
    "collapsed": true,
    "pycharm": {
     "name": "#%%\n"
    }
   },
   "outputs": [
    {
     "data": {
      "text/plain": "array([[281.0, 281.0, 281.0],\n       [283.2, 283.2, 283.2],\n       [281.4, 281.4, 281.4],\n       ...,\n       [1538.5, 1553.1, 1532.6],\n       [1553.0, 1561.2, 1546.0],\n       [1557.4, 1557.7, 1541.3]], dtype=object)"
     },
     "execution_count": 27,
     "metadata": {},
     "output_type": "execute_result"
    }
   ],
   "source": [
    "from mxnet import autograd,nd\n",
    "import pandas as pd\n",
    "import numpy as np\n",
    "data = pd.read_csv(\"./train.csv\")\n",
    "arr = np.array(data)\n",
    "arr[:4999,3:6]"
   ]
  },
  {
   "cell_type": "code",
   "execution_count": 28,
   "outputs": [
    {
     "data": {
      "text/plain": "\n[[ 281.   281.   281.   282.7    4. ]\n [ 283.2  283.2  283.2  281.1   16. ]\n [ 281.4  281.4  281.4  281.4    0. ]\n ...\n [1538.5 1553.1 1532.6 1561.   238. ]\n [1553.  1561.2 1546.  1563.7  291. ]\n [1557.4 1557.7 1541.3 1556.2  163. ]]\n<NDArray 4999x5 @cpu(0)>"
     },
     "execution_count": 28,
     "metadata": {},
     "output_type": "execute_result"
    }
   ],
   "source": [
    "features = arr[:4999,3:]\n",
    "features = nd.array(features)\n",
    "features"
   ],
   "metadata": {
    "collapsed": false,
    "pycharm": {
     "name": "#%%\n"
    }
   }
  },
  {
   "cell_type": "code",
   "execution_count": 29,
   "outputs": [
    {
     "data": {
      "text/plain": "\n[ 281.1  281.4  281.9 ... 1563.7 1556.2 1544. ]\n<NDArray 4999 @cpu(0)>"
     },
     "execution_count": 29,
     "metadata": {},
     "output_type": "execute_result"
    }
   ],
   "source": [
    "labels = arr[1:,6:7]\n",
    "labels = nd.array(labels)\n",
    "labels = labels.reshape(shape=[4999])\n",
    "labels"
   ],
   "metadata": {
    "collapsed": false,
    "pycharm": {
     "name": "#%%\n"
    }
   }
  },
  {
   "cell_type": "code",
   "execution_count": 30,
   "outputs": [
    {
     "name": "stdout",
     "output_type": "stream",
     "text": [
      "\n",
      "[[1242.1  1243.   1236.7  1357.5     6.  ]\n",
      " [1333.1  1333.1  1333.1  1336.8     3.  ]\n",
      " [ 526.5   538.5   526.5   528.4   995.  ]\n",
      " [ 375.1   375.1   375.1   375.1     0.  ]\n",
      " [ 882.    891.4   881.2   891.7     6.  ]\n",
      " [1236.   1239.25 1236.   1237.3     0.  ]\n",
      " [1331.6  1331.6  1331.6  1331.6    61.  ]\n",
      " [ 861.6   879.4   861.6   878.     21.  ]\n",
      " [ 411.1   411.1   411.1   411.1     2.  ]\n",
      " [ 297.3   308.    296.2   297.5  1043.  ]]\n",
      "<NDArray 10x5 @cpu(0)> \n",
      "[1358.5 1327.5  521.   381.7  896.1 1238.2 1324.6  879.5  410.   299.7]\n",
      "<NDArray 10 @cpu(0)>\n"
     ]
    }
   ],
   "source": [
    "from mxnet.gluon import data as gdata\n",
    "\n",
    "# 超参数\n",
    "batch_size = 10\n",
    "dataset = gdata.ArrayDataset(features,labels)\n",
    "data_iter = gdata.DataLoader(dataset,batch_size,shuffle=True)\n",
    "\n",
    "for X,y in data_iter:\n",
    "    print(X,y)\n",
    "    break"
   ],
   "metadata": {
    "collapsed": false,
    "pycharm": {
     "name": "#%%\n"
    }
   }
  },
  {
   "cell_type": "code",
   "execution_count": 31,
   "outputs": [],
   "source": [
    "from mxnet.gluon import nn\n",
    "net = nn.Sequential()\n",
    "net.add(nn.Dense(1))"
   ],
   "metadata": {
    "collapsed": false,
    "pycharm": {
     "name": "#%%\n"
    }
   }
  },
  {
   "cell_type": "code",
   "execution_count": 32,
   "outputs": [],
   "source": [
    "from mxnet import init\n",
    "net.initialize(init.Normal(sigma=0.01))"
   ],
   "metadata": {
    "collapsed": false,
    "pycharm": {
     "name": "#%%\n"
    }
   }
  },
  {
   "cell_type": "code",
   "execution_count": 33,
   "outputs": [],
   "source": [
    "from mxnet.gluon import loss as gloss\n",
    "loss = gloss.L2Loss()"
   ],
   "metadata": {
    "collapsed": false,
    "pycharm": {
     "name": "#%%\n"
    }
   }
  },
  {
   "cell_type": "code",
   "execution_count": 34,
   "outputs": [],
   "source": [
    "from mxnet import gluon\n",
    "#第一个超参数，学习率，并不是越小越好\n",
    "trainer = gluon.Trainer(net.collect_params(),'sgd',{'learning_rate':0.000000002})"
   ],
   "metadata": {
    "collapsed": false,
    "pycharm": {
     "name": "#%%\n"
    }
   }
  },
  {
   "cell_type": "code",
   "execution_count": 35,
   "outputs": [],
   "source": [
    "test_data = np.array(pd.read_csv(\"./test.csv\"))\n",
    "test = nd.array(test_data[0:690,3:])\n",
    "true_y = test_data[1:691,6:7]\n",
    "true_y = nd.array(true_y)"
   ],
   "metadata": {
    "collapsed": false,
    "pycharm": {
     "name": "#%%\n"
    }
   }
  },
  {
   "cell_type": "code",
   "execution_count": 36,
   "outputs": [],
   "source": [
    "def test_acc():\n",
    "    return loss(net(test),true_y).mean().asnumpy()"
   ],
   "metadata": {
    "collapsed": false,
    "pycharm": {
     "name": "#%%\n"
    }
   }
  },
  {
   "cell_type": "code",
   "execution_count": 37,
   "outputs": [
    {
     "name": "stdout",
     "output_type": "stream",
     "text": [
      "epoch 1,loss: 335.722534 test_lost: 816.318115\n",
      "epoch 2,loss: 255.785858 test_lost: 243.631470\n",
      "epoch 3,loss: 261.785492 test_lost: 622.565674\n",
      "epoch 4,loss: 259.000214 test_lost: 477.379181\n",
      "epoch 5,loss: 255.391022 test_lost: 243.173920\n"
     ]
    }
   ],
   "source": [
    "num_epochs = 5\n",
    "for epoch in range(1,num_epochs+1):\n",
    "    for X,y in data_iter:\n",
    "        with autograd.record():\n",
    "            l = loss(net(X),y)\n",
    "        l.backward()\n",
    "        trainer.step(batch_size)\n",
    "    l = loss(net(features),labels)\n",
    "    print('epoch %d,loss: %f test_lost: %f' % (epoch,l.mean().asnumpy(),test_acc()))"
   ],
   "metadata": {
    "collapsed": false,
    "pycharm": {
     "name": "#%%\n"
    }
   }
  },
  {
   "cell_type": "code",
   "execution_count": 38,
   "outputs": [
    {
     "data": {
      "text/plain": "\n[[ 2.6279724e-01  2.4579675e-01  2.4257064e-01  2.5183904e-01\n  -5.6270343e-05]]\n<NDArray 1x5 @cpu(0)>"
     },
     "execution_count": 38,
     "metadata": {},
     "output_type": "execute_result"
    }
   ],
   "source": [
    "dense = net[0]\n",
    "dense.weight.data()"
   ],
   "metadata": {
    "collapsed": false,
    "pycharm": {
     "name": "#%%\n"
    }
   }
  },
  {
   "cell_type": "code",
   "execution_count": 39,
   "outputs": [
    {
     "data": {
      "text/plain": "\n[0.00020979]\n<NDArray 1 @cpu(0)>"
     },
     "execution_count": 39,
     "metadata": {},
     "output_type": "execute_result"
    }
   ],
   "source": [
    "dense.bias.data()"
   ],
   "metadata": {
    "collapsed": false,
    "pycharm": {
     "name": "#%%\n"
    }
   }
  }
 ],
 "metadata": {
  "kernelspec": {
   "display_name": "Python 3",
   "language": "python",
   "name": "python3"
  },
  "language_info": {
   "codemirror_mode": {
    "name": "ipython",
    "version": 2
   },
   "file_extension": ".py",
   "mimetype": "text/x-python",
   "name": "python",
   "nbconvert_exporter": "python",
   "pygments_lexer": "ipython2",
   "version": "2.7.6"
  }
 },
 "nbformat": 4,
 "nbformat_minor": 0
}