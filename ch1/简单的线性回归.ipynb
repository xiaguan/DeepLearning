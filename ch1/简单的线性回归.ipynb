{
 "cells": [
  {
   "cell_type": "code",
   "execution_count": 155,
   "metadata": {
    "collapsed": true,
    "pycharm": {
     "name": "#%%\n"
    }
   },
   "outputs": [
    {
     "data": {
      "text/plain": "array([[281.0, 281.0, 281.0],\n       [283.2, 283.2, 283.2],\n       [281.4, 281.4, 281.4],\n       ...,\n       [1538.5, 1553.1, 1532.6],\n       [1553.0, 1561.2, 1546.0],\n       [1557.4, 1557.7, 1541.3]], dtype=object)"
     },
     "execution_count": 155,
     "metadata": {},
     "output_type": "execute_result"
    }
   ],
   "source": [
    "from mxnet import autograd,nd\n",
    "import pandas as pd\n",
    "import numpy as np\n",
    "data = pd.read_csv(\"./train.csv\")\n",
    "arr = np.array(data)\n",
    "arr[:4999,3:6]"
   ]
  },
  {
   "cell_type": "code",
   "execution_count": 156,
   "outputs": [
    {
     "data": {
      "text/plain": "\n[[ 281.   281.   281.   282.7    4. ]\n [ 283.2  283.2  283.2  281.1   16. ]\n [ 281.4  281.4  281.4  281.4    0. ]\n ...\n [1538.5 1553.1 1532.6 1561.   238. ]\n [1553.  1561.2 1546.  1563.7  291. ]\n [1557.4 1557.7 1541.3 1556.2  163. ]]\n<NDArray 4999x5 @cpu(0)>"
     },
     "execution_count": 156,
     "metadata": {},
     "output_type": "execute_result"
    }
   ],
   "source": [
    "features = arr[:4999,3:]\n",
    "features = nd.array(features)\n",
    "features"
   ],
   "metadata": {
    "collapsed": false,
    "pycharm": {
     "name": "#%%\n"
    }
   }
  },
  {
   "cell_type": "code",
   "execution_count": 157,
   "outputs": [
    {
     "data": {
      "text/plain": "\n[ 281.1  281.4  281.9 ... 1563.7 1556.2 1544. ]\n<NDArray 4999 @cpu(0)>"
     },
     "execution_count": 157,
     "metadata": {},
     "output_type": "execute_result"
    }
   ],
   "source": [
    "labels = arr[1:,6:7]\n",
    "labels = nd.array(labels)\n",
    "labels = labels.reshape(shape=[4999])\n",
    "labels"
   ],
   "metadata": {
    "collapsed": false,
    "pycharm": {
     "name": "#%%\n"
    }
   }
  },
  {
   "cell_type": "code",
   "execution_count": 158,
   "outputs": [
    {
     "name": "stdout",
     "output_type": "stream",
     "text": [
      "\n",
      "[[1.3834e+03 1.3840e+03 1.3642e+03 1.3734e+03 1.7500e+02]\n",
      " [1.6470e+03 1.6583e+03 1.6257e+03 1.6481e+03 1.9900e+02]\n",
      " [1.3518e+03 1.3518e+03 1.3518e+03 1.3510e+03 1.0000e+00]\n",
      " [5.5610e+02 5.5610e+02 5.5610e+02 5.5610e+02 0.0000e+00]\n",
      " [2.6400e+02 2.6400e+02 2.6400e+02 2.6400e+02 0.0000e+00]\n",
      " [1.2961e+03 1.2961e+03 1.2961e+03 1.2961e+03 2.9000e+01]\n",
      " [8.9150e+02 8.9150e+02 8.8450e+02 8.7770e+02 9.2000e+01]\n",
      " [1.2793e+03 1.2793e+03 1.2793e+03 1.2793e+03 6.7000e+01]\n",
      " [3.9930e+02 3.9930e+02 3.9930e+02 3.9930e+02 0.0000e+00]\n",
      " [2.7390e+02 2.7390e+02 2.7390e+02 2.7390e+02 0.0000e+00]]\n",
      "<NDArray 10x5 @cpu(0)> \n",
      "[1371.4 1645.5 1355.2  553.4  263.9 1265.6  882.9 1289.1  393.5  278.4]\n",
      "<NDArray 10 @cpu(0)>\n"
     ]
    }
   ],
   "source": [
    "from mxnet.gluon import data as gdata\n",
    "\n",
    "# 超参数\n",
    "batch_size = 10\n",
    "dataset = gdata.ArrayDataset(features,labels)\n",
    "data_iter = gdata.DataLoader(dataset,batch_size,shuffle=True)\n",
    "\n",
    "for X,y in data_iter:\n",
    "    print(X,y)\n",
    "    break"
   ],
   "metadata": {
    "collapsed": false,
    "pycharm": {
     "name": "#%%\n"
    }
   }
  },
  {
   "cell_type": "code",
   "execution_count": 159,
   "outputs": [],
   "source": [
    "from mxnet.gluon import nn\n",
    "net = nn.Sequential()\n",
    "net.add(nn.Dense(1))"
   ],
   "metadata": {
    "collapsed": false,
    "pycharm": {
     "name": "#%%\n"
    }
   }
  },
  {
   "cell_type": "code",
   "execution_count": 160,
   "outputs": [],
   "source": [
    "from mxnet import init\n",
    "net.initialize(init.Normal(sigma=0.01))"
   ],
   "metadata": {
    "collapsed": false,
    "pycharm": {
     "name": "#%%\n"
    }
   }
  },
  {
   "cell_type": "code",
   "execution_count": 161,
   "outputs": [],
   "source": [
    "from mxnet.gluon import loss as gloss\n",
    "loss = gloss.L2Loss()"
   ],
   "metadata": {
    "collapsed": false,
    "pycharm": {
     "name": "#%%\n"
    }
   }
  },
  {
   "cell_type": "code",
   "execution_count": 162,
   "outputs": [],
   "source": [
    "from mxnet import gluon\n",
    "#第一个超参数，学习率，并不是越小越好\n",
    "trainer = gluon.Trainer(net.collect_params(),'sgd',{'learning_rate':0.0000000001})"
   ],
   "metadata": {
    "collapsed": false,
    "pycharm": {
     "name": "#%%\n"
    }
   }
  },
  {
   "cell_type": "code",
   "execution_count": 163,
   "outputs": [],
   "source": [
    "test_data = np.array(pd.read_csv(\"./test.csv\"))\n",
    "test = nd.array(test_data[0:690,3:])\n",
    "true_y = test_data[1:691,6:7]\n",
    "true_y = nd.array(true_y)"
   ],
   "metadata": {
    "collapsed": false,
    "pycharm": {
     "name": "#%%\n"
    }
   }
  },
  {
   "cell_type": "code",
   "execution_count": 164,
   "outputs": [],
   "source": [
    "def test_acc():\n",
    "    return loss(net(test),true_y).mean().asnumpy()"
   ],
   "metadata": {
    "collapsed": false,
    "pycharm": {
     "name": "#%%\n"
    }
   }
  },
  {
   "cell_type": "code",
   "execution_count": 165,
   "outputs": [
    {
     "name": "stdout",
     "output_type": "stream",
     "text": [
      "epoch 1,loss: 6779.737305 test_lost: 25707.001953\n",
      "epoch 2,loss: 331.221252 test_lost: 417.806396\n",
      "epoch 3,loss: 250.067520 test_lost: 239.161896\n",
      "epoch 4,loss: 249.070770 test_lost: 240.172562\n",
      "epoch 5,loss: 249.041687 test_lost: 241.138657\n",
      "epoch 6,loss: 248.962387 test_lost: 240.121490\n",
      "epoch 7,loss: 249.519333 test_lost: 280.088928\n",
      "epoch 8,loss: 249.516296 test_lost: 276.279449\n",
      "epoch 9,loss: 248.916580 test_lost: 245.475571\n",
      "epoch 10,loss: 249.164062 test_lost: 262.602539\n",
      "epoch 11,loss: 248.728790 test_lost: 239.911713\n",
      "epoch 12,loss: 249.856491 test_lost: 305.030579\n",
      "epoch 13,loss: 248.634506 test_lost: 239.246948\n",
      "epoch 14,loss: 248.723221 test_lost: 247.103622\n",
      "epoch 15,loss: 248.655701 test_lost: 239.415237\n",
      "epoch 16,loss: 248.529251 test_lost: 240.258789\n",
      "epoch 17,loss: 248.554565 test_lost: 238.131119\n",
      "epoch 18,loss: 248.464111 test_lost: 240.331085\n",
      "epoch 19,loss: 248.491501 test_lost: 248.449249\n",
      "epoch 20,loss: 248.773087 test_lost: 269.565887\n",
      "epoch 1,loss: 356345.781250 test_lost: 1149797.750000\n",
      "epoch 2,loss: 229966.328125 test_lost: 770881.125000\n",
      "epoch 3,loss: 148497.000000 test_lost: 536245.750000\n",
      "epoch 4,loss: 95906.414062 test_lost: 322443.906250\n",
      "epoch 5,loss: 61981.042969 test_lost: 206009.765625\n",
      "epoch 6,loss: 40092.785156 test_lost: 130898.039062\n",
      "epoch 7,loss: 25960.000000 test_lost: 86706.445312\n",
      "epoch 8,loss: 16843.679688 test_lost: 58354.300781\n",
      "epoch 9,loss: 10968.627930 test_lost: 40543.136719\n",
      "epoch 10,loss: 7167.477539 test_lost: 23505.748047\n",
      "epoch 11,loss: 4719.328613 test_lost: 14313.215820\n",
      "epoch 12,loss: 3136.371582 test_lost: 10133.449219\n",
      "epoch 13,loss: 2116.332764 test_lost: 6589.355957\n",
      "epoch 14,loss: 1458.140625 test_lost: 4080.894531\n",
      "epoch 15,loss: 1033.825806 test_lost: 2906.626465\n",
      "epoch 16,loss: 759.744751 test_lost: 2014.043335\n",
      "epoch 17,loss: 583.003479 test_lost: 1357.590332\n",
      "epoch 18,loss: 468.716888 test_lost: 887.771179\n",
      "epoch 19,loss: 395.049500 test_lost: 652.277649\n",
      "epoch 20,loss: 347.613770 test_lost: 512.753296\n"
     ]
    }
   ],
   "source": [
    "num_epochs = 20\n",
    "for epoch in range(1,num_epochs+1):\n",
    "    for X,y in data_iter:\n",
    "        with autograd.record():\n",
    "            l = loss(net(X),y)\n",
    "        l.backward()\n",
    "        trainer.step(batch_size)\n",
    "    l = loss(net(features),labels)\n",
    "    print('epoch %d,loss: %f test_lost: %f' % (epoch,l.mean().asnumpy(),test_acc()))"
   ],
   "metadata": {
    "collapsed": false,
    "pycharm": {
     "name": "#%%\n"
    }
   }
  },
  {
   "cell_type": "code",
   "execution_count": 166,
   "outputs": [
    {
     "data": {
      "text/plain": "\n[[ 2.4541709e-01  2.2653717e-01  2.6043013e-01  2.7122605e-01\n  -1.5583912e-04]]\n<NDArray 1x5 @cpu(0)>"
     },
     "execution_count": 153,
     "metadata": {},
     "output_type": "execute_result"
    },
    {
     "data": {
      "text/plain": "\n[[0.24838287 0.25007543 0.26047033 0.23182087 0.00031211]]\n<NDArray 1x5 @cpu(0)>"
     },
     "execution_count": 166,
     "metadata": {},
     "output_type": "execute_result"
    }
   ],
   "source": [
    "dense = net[0]\n",
    "dense.weight.data()"
   ],
   "metadata": {
    "collapsed": false,
    "pycharm": {
     "name": "#%%\n"
    }
   }
  },
  {
   "cell_type": "code",
   "execution_count": 167,
   "outputs": [
    {
     "data": {
      "text/plain": "\n[0.00020585]\n<NDArray 1 @cpu(0)>"
     },
     "execution_count": 154,
     "metadata": {},
     "output_type": "execute_result"
    },
    {
     "data": {
      "text/plain": "\n[0.00020866]\n<NDArray 1 @cpu(0)>"
     },
     "execution_count": 167,
     "metadata": {},
     "output_type": "execute_result"
    }
   ],
   "source": [
    "dense.bias.data()"
   ],
   "metadata": {
    "collapsed": false,
    "pycharm": {
     "name": "#%%\n"
    }
   }
  }
 ],
 "metadata": {
  "kernelspec": {
   "display_name": "Python 3",
   "language": "python",
   "name": "python3"
  },
  "language_info": {
   "codemirror_mode": {
    "name": "ipython",
    "version": 2
   },
   "file_extension": ".py",
   "mimetype": "text/x-python",
   "name": "python",
   "nbconvert_exporter": "python",
   "pygments_lexer": "ipython2",
   "version": "2.7.6"
  }
 },
 "nbformat": 4,
 "nbformat_minor": 0
}