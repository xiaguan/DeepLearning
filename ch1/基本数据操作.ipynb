{
 "cells": [
  {
   "cell_type": "code",
   "execution_count": 11,
   "metadata": {
    "collapsed": true
   },
   "outputs": [
    {
     "data": {
      "text/plain": "  Symbol        Date   Open   High    Low  Close  Volume\n0   Gold  2000-01-04  281.0  281.0  281.0  282.7       4\n1   Gold  2000-01-05  283.2  283.2  283.2  281.1      16\n2   Gold  2000-01-06  281.4  281.4  281.4  281.4       0\n3   Gold  2000-01-07  281.9  281.9  281.9  281.9       0\n4   Gold  2000-01-10  281.7  281.7  281.7  281.7       0",
      "text/html": "<div>\n<style scoped>\n    .dataframe tbody tr th:only-of-type {\n        vertical-align: middle;\n    }\n\n    .dataframe tbody tr th {\n        vertical-align: top;\n    }\n\n    .dataframe thead th {\n        text-align: right;\n    }\n</style>\n<table border=\"1\" class=\"dataframe\">\n  <thead>\n    <tr style=\"text-align: right;\">\n      <th></th>\n      <th>Symbol</th>\n      <th>Date</th>\n      <th>Open</th>\n      <th>High</th>\n      <th>Low</th>\n      <th>Close</th>\n      <th>Volume</th>\n    </tr>\n  </thead>\n  <tbody>\n    <tr>\n      <th>0</th>\n      <td>Gold</td>\n      <td>2000-01-04</td>\n      <td>281.0</td>\n      <td>281.0</td>\n      <td>281.0</td>\n      <td>282.7</td>\n      <td>4</td>\n    </tr>\n    <tr>\n      <th>1</th>\n      <td>Gold</td>\n      <td>2000-01-05</td>\n      <td>283.2</td>\n      <td>283.2</td>\n      <td>283.2</td>\n      <td>281.1</td>\n      <td>16</td>\n    </tr>\n    <tr>\n      <th>2</th>\n      <td>Gold</td>\n      <td>2000-01-06</td>\n      <td>281.4</td>\n      <td>281.4</td>\n      <td>281.4</td>\n      <td>281.4</td>\n      <td>0</td>\n    </tr>\n    <tr>\n      <th>3</th>\n      <td>Gold</td>\n      <td>2000-01-07</td>\n      <td>281.9</td>\n      <td>281.9</td>\n      <td>281.9</td>\n      <td>281.9</td>\n      <td>0</td>\n    </tr>\n    <tr>\n      <th>4</th>\n      <td>Gold</td>\n      <td>2000-01-10</td>\n      <td>281.7</td>\n      <td>281.7</td>\n      <td>281.7</td>\n      <td>281.7</td>\n      <td>0</td>\n    </tr>\n  </tbody>\n</table>\n</div>"
     },
     "execution_count": 11,
     "metadata": {},
     "output_type": "execute_result"
    }
   ],
   "source": [
    "import numpy as np\n",
    "import pandas as pd\n",
    "\n",
    "# 读取数据\n",
    "data = pd.read_csv(\"commodity 2000-2022.csv\")\n",
    "data.head()"
   ]
  },
  {
   "cell_type": "code",
   "execution_count": 12,
   "outputs": [
    {
     "data": {
      "text/plain": "Symbol     Date        Open    High     Low      Close   Volume\nBrent Oil  2000-01-04  281.0   281.00   281.00   282.7   4         1\nNickel     2022-03-25  1957.8  1965.10  1942.60  1954.2  147904    1\nPalladium  2000-01-18  288.6   288.60   288.60   288.6   0         1\n           2000-01-14  283.9   283.90   283.90   283.9   0         1\n           2000-01-13  284.1   284.10   284.10   284.1   0         1\n                                                                  ..\nGold       2022-03-24  1944.1  1967.20  1937.40  1962.2  181204    1\n           2022-03-23  1920.9  1948.80  1915.60  1937.3  153306    1\n           2022-03-22  1936.1  1939.50  1909.80  1921.5  153282    1\n           2022-03-21  1922.4  1941.80  1917.20  1929.5  146411    1\nWheat      2022-03-31  1932.5  1932.65  1918.95  1919.7  0         1\nLength: 34158, dtype: int64"
     },
     "execution_count": 12,
     "metadata": {},
     "output_type": "execute_result"
    }
   ],
   "source": [
    "data.value_counts()"
   ],
   "metadata": {
    "collapsed": false,
    "pycharm": {
     "name": "#%%\n"
    }
   }
  },
  {
   "cell_type": "code",
   "execution_count": 13,
   "outputs": [
    {
     "data": {
      "text/plain": "['Natural Gas', 'Palladium', 'Wheat', 'Nickel', 'Gold', 'Brent Oil']"
     },
     "execution_count": 13,
     "metadata": {},
     "output_type": "execute_result"
    }
   ],
   "source": [
    "major_list = data['Symbol'].value_counts().reset_index()['index'].to_list()\n",
    "major_list"
   ],
   "metadata": {
    "collapsed": false,
    "pycharm": {
     "name": "#%%\n"
    }
   }
  },
  {
   "cell_type": "code",
   "execution_count": 14,
   "outputs": [
    {
     "data": {
      "text/plain": "               Open          High           Low         Close         Volume\ncount  34158.000000  34158.000000  34158.000000  34158.000000   34158.000000\nmean    1049.095990   1052.926784   1044.946756   1052.675588    2871.630950\nstd      520.928989    522.991400    518.625896    523.103658   20859.478723\nmin      255.000000    255.000000    255.000000    255.100000       0.000000\n25%      460.100000    460.100000    460.000000    460.100000       5.000000\n50%     1221.000000   1225.700000   1216.800000   1234.100000      57.000000\n75%     1406.000000   1409.200000   1403.100000   1415.300000     246.000000\nmax     2121.700000   2121.700000   2121.700000   2117.100000  447651.000000",
      "text/html": "<div>\n<style scoped>\n    .dataframe tbody tr th:only-of-type {\n        vertical-align: middle;\n    }\n\n    .dataframe tbody tr th {\n        vertical-align: top;\n    }\n\n    .dataframe thead th {\n        text-align: right;\n    }\n</style>\n<table border=\"1\" class=\"dataframe\">\n  <thead>\n    <tr style=\"text-align: right;\">\n      <th></th>\n      <th>Open</th>\n      <th>High</th>\n      <th>Low</th>\n      <th>Close</th>\n      <th>Volume</th>\n    </tr>\n  </thead>\n  <tbody>\n    <tr>\n      <th>count</th>\n      <td>34158.000000</td>\n      <td>34158.000000</td>\n      <td>34158.000000</td>\n      <td>34158.000000</td>\n      <td>34158.000000</td>\n    </tr>\n    <tr>\n      <th>mean</th>\n      <td>1049.095990</td>\n      <td>1052.926784</td>\n      <td>1044.946756</td>\n      <td>1052.675588</td>\n      <td>2871.630950</td>\n    </tr>\n    <tr>\n      <th>std</th>\n      <td>520.928989</td>\n      <td>522.991400</td>\n      <td>518.625896</td>\n      <td>523.103658</td>\n      <td>20859.478723</td>\n    </tr>\n    <tr>\n      <th>min</th>\n      <td>255.000000</td>\n      <td>255.000000</td>\n      <td>255.000000</td>\n      <td>255.100000</td>\n      <td>0.000000</td>\n    </tr>\n    <tr>\n      <th>25%</th>\n      <td>460.100000</td>\n      <td>460.100000</td>\n      <td>460.000000</td>\n      <td>460.100000</td>\n      <td>5.000000</td>\n    </tr>\n    <tr>\n      <th>50%</th>\n      <td>1221.000000</td>\n      <td>1225.700000</td>\n      <td>1216.800000</td>\n      <td>1234.100000</td>\n      <td>57.000000</td>\n    </tr>\n    <tr>\n      <th>75%</th>\n      <td>1406.000000</td>\n      <td>1409.200000</td>\n      <td>1403.100000</td>\n      <td>1415.300000</td>\n      <td>246.000000</td>\n    </tr>\n    <tr>\n      <th>max</th>\n      <td>2121.700000</td>\n      <td>2121.700000</td>\n      <td>2121.700000</td>\n      <td>2117.100000</td>\n      <td>447651.000000</td>\n    </tr>\n  </tbody>\n</table>\n</div>"
     },
     "execution_count": 14,
     "metadata": {},
     "output_type": "execute_result"
    }
   ],
   "source": [
    "data.describe()"
   ],
   "metadata": {
    "collapsed": false,
    "pycharm": {
     "name": "#%%\n"
    }
   }
  },
  {
   "cell_type": "code",
   "execution_count": 15,
   "outputs": [
    {
     "name": "stdout",
     "output_type": "stream",
     "text": [
      "<class 'pandas.core.frame.DataFrame'>\n",
      "RangeIndex: 34158 entries, 0 to 34157\n",
      "Data columns (total 7 columns):\n",
      " #   Column  Non-Null Count  Dtype  \n",
      "---  ------  --------------  -----  \n",
      " 0   Symbol  34158 non-null  object \n",
      " 1   Date    34158 non-null  object \n",
      " 2   Open    34158 non-null  float64\n",
      " 3   High    34158 non-null  float64\n",
      " 4   Low     34158 non-null  float64\n",
      " 5   Close   34158 non-null  float64\n",
      " 6   Volume  34158 non-null  int64  \n",
      "dtypes: float64(4), int64(1), object(2)\n",
      "memory usage: 1.8+ MB\n"
     ]
    }
   ],
   "source": [
    "data.info()"
   ],
   "metadata": {
    "collapsed": false,
    "pycharm": {
     "name": "#%%\n"
    }
   }
  },
  {
   "cell_type": "code",
   "execution_count": 16,
   "outputs": [
    {
     "data": {
      "text/plain": "     Symbol        Date    Open     High      Low   Close  Volume\n0      Gold  2000-01-04   281.0   281.00   281.00   282.7       4\n1      Gold  2000-01-05   283.2   283.20   283.20   281.1      16\n2      Gold  2000-01-06   281.4   281.40   281.40   281.4       0\n3      Gold  2000-01-07   281.9   281.90   281.90   281.9       0\n4      Gold  2000-01-10   281.7   281.70   281.70   281.7       0\n...     ...         ...     ...      ...      ...     ...     ...\n5688   Gold  2022-03-25  1957.8  1965.10  1942.60  1954.2  147904\n5689   Gold  2022-03-28  1958.7  1959.80  1915.70  1939.8  181367\n5690   Gold  2022-03-29  1922.4  1929.40  1888.30  1912.2  128051\n5691   Gold  2022-03-30  1918.4  1937.00  1914.50  1933.5   17765\n5692   Gold  2022-03-31  1932.5  1932.65  1918.95  1919.7       0\n\n[5693 rows x 7 columns]",
      "text/html": "<div>\n<style scoped>\n    .dataframe tbody tr th:only-of-type {\n        vertical-align: middle;\n    }\n\n    .dataframe tbody tr th {\n        vertical-align: top;\n    }\n\n    .dataframe thead th {\n        text-align: right;\n    }\n</style>\n<table border=\"1\" class=\"dataframe\">\n  <thead>\n    <tr style=\"text-align: right;\">\n      <th></th>\n      <th>Symbol</th>\n      <th>Date</th>\n      <th>Open</th>\n      <th>High</th>\n      <th>Low</th>\n      <th>Close</th>\n      <th>Volume</th>\n    </tr>\n  </thead>\n  <tbody>\n    <tr>\n      <th>0</th>\n      <td>Gold</td>\n      <td>2000-01-04</td>\n      <td>281.0</td>\n      <td>281.00</td>\n      <td>281.00</td>\n      <td>282.7</td>\n      <td>4</td>\n    </tr>\n    <tr>\n      <th>1</th>\n      <td>Gold</td>\n      <td>2000-01-05</td>\n      <td>283.2</td>\n      <td>283.20</td>\n      <td>283.20</td>\n      <td>281.1</td>\n      <td>16</td>\n    </tr>\n    <tr>\n      <th>2</th>\n      <td>Gold</td>\n      <td>2000-01-06</td>\n      <td>281.4</td>\n      <td>281.40</td>\n      <td>281.40</td>\n      <td>281.4</td>\n      <td>0</td>\n    </tr>\n    <tr>\n      <th>3</th>\n      <td>Gold</td>\n      <td>2000-01-07</td>\n      <td>281.9</td>\n      <td>281.90</td>\n      <td>281.90</td>\n      <td>281.9</td>\n      <td>0</td>\n    </tr>\n    <tr>\n      <th>4</th>\n      <td>Gold</td>\n      <td>2000-01-10</td>\n      <td>281.7</td>\n      <td>281.70</td>\n      <td>281.70</td>\n      <td>281.7</td>\n      <td>0</td>\n    </tr>\n    <tr>\n      <th>...</th>\n      <td>...</td>\n      <td>...</td>\n      <td>...</td>\n      <td>...</td>\n      <td>...</td>\n      <td>...</td>\n      <td>...</td>\n    </tr>\n    <tr>\n      <th>5688</th>\n      <td>Gold</td>\n      <td>2022-03-25</td>\n      <td>1957.8</td>\n      <td>1965.10</td>\n      <td>1942.60</td>\n      <td>1954.2</td>\n      <td>147904</td>\n    </tr>\n    <tr>\n      <th>5689</th>\n      <td>Gold</td>\n      <td>2022-03-28</td>\n      <td>1958.7</td>\n      <td>1959.80</td>\n      <td>1915.70</td>\n      <td>1939.8</td>\n      <td>181367</td>\n    </tr>\n    <tr>\n      <th>5690</th>\n      <td>Gold</td>\n      <td>2022-03-29</td>\n      <td>1922.4</td>\n      <td>1929.40</td>\n      <td>1888.30</td>\n      <td>1912.2</td>\n      <td>128051</td>\n    </tr>\n    <tr>\n      <th>5691</th>\n      <td>Gold</td>\n      <td>2022-03-30</td>\n      <td>1918.4</td>\n      <td>1937.00</td>\n      <td>1914.50</td>\n      <td>1933.5</td>\n      <td>17765</td>\n    </tr>\n    <tr>\n      <th>5692</th>\n      <td>Gold</td>\n      <td>2022-03-31</td>\n      <td>1932.5</td>\n      <td>1932.65</td>\n      <td>1918.95</td>\n      <td>1919.7</td>\n      <td>0</td>\n    </tr>\n  </tbody>\n</table>\n<p>5693 rows × 7 columns</p>\n</div>"
     },
     "execution_count": 16,
     "metadata": {},
     "output_type": "execute_result"
    }
   ],
   "source": [
    "Gold = data[data.Symbol == 'Gold']\n",
    "sp = 5000\n",
    "Gold"
   ],
   "metadata": {
    "collapsed": false,
    "pycharm": {
     "name": "#%%\n"
    }
   }
  },
  {
   "cell_type": "code",
   "execution_count": 22,
   "outputs": [
    {
     "data": {
      "text/plain": "     Symbol        Date    Open    High     Low   Close  Volume\n0      Gold  2000-01-04   281.0   281.0   281.0   282.7       4\n1      Gold  2000-01-05   283.2   283.2   283.2   281.1      16\n2      Gold  2000-01-06   281.4   281.4   281.4   281.4       0\n3      Gold  2000-01-07   281.9   281.9   281.9   281.9       0\n4      Gold  2000-01-10   281.7   281.7   281.7   281.7       0\n...     ...         ...     ...     ...     ...     ...     ...\n4995   Gold  2019-08-13  1556.2  1571.7  1523.1  1547.7      65\n4996   Gold  2019-08-14  1538.5  1553.1  1532.6  1561.0     238\n4997   Gold  2019-08-15  1553.0  1561.2  1546.0  1563.7     291\n4998   Gold  2019-08-16  1557.4  1557.7  1541.3  1556.2     163\n4999   Gold  2019-08-19  1543.9  1543.9  1531.0  1544.0     345\n\n[5000 rows x 7 columns]",
      "text/html": "<div>\n<style scoped>\n    .dataframe tbody tr th:only-of-type {\n        vertical-align: middle;\n    }\n\n    .dataframe tbody tr th {\n        vertical-align: top;\n    }\n\n    .dataframe thead th {\n        text-align: right;\n    }\n</style>\n<table border=\"1\" class=\"dataframe\">\n  <thead>\n    <tr style=\"text-align: right;\">\n      <th></th>\n      <th>Symbol</th>\n      <th>Date</th>\n      <th>Open</th>\n      <th>High</th>\n      <th>Low</th>\n      <th>Close</th>\n      <th>Volume</th>\n    </tr>\n  </thead>\n  <tbody>\n    <tr>\n      <th>0</th>\n      <td>Gold</td>\n      <td>2000-01-04</td>\n      <td>281.0</td>\n      <td>281.0</td>\n      <td>281.0</td>\n      <td>282.7</td>\n      <td>4</td>\n    </tr>\n    <tr>\n      <th>1</th>\n      <td>Gold</td>\n      <td>2000-01-05</td>\n      <td>283.2</td>\n      <td>283.2</td>\n      <td>283.2</td>\n      <td>281.1</td>\n      <td>16</td>\n    </tr>\n    <tr>\n      <th>2</th>\n      <td>Gold</td>\n      <td>2000-01-06</td>\n      <td>281.4</td>\n      <td>281.4</td>\n      <td>281.4</td>\n      <td>281.4</td>\n      <td>0</td>\n    </tr>\n    <tr>\n      <th>3</th>\n      <td>Gold</td>\n      <td>2000-01-07</td>\n      <td>281.9</td>\n      <td>281.9</td>\n      <td>281.9</td>\n      <td>281.9</td>\n      <td>0</td>\n    </tr>\n    <tr>\n      <th>4</th>\n      <td>Gold</td>\n      <td>2000-01-10</td>\n      <td>281.7</td>\n      <td>281.7</td>\n      <td>281.7</td>\n      <td>281.7</td>\n      <td>0</td>\n    </tr>\n    <tr>\n      <th>...</th>\n      <td>...</td>\n      <td>...</td>\n      <td>...</td>\n      <td>...</td>\n      <td>...</td>\n      <td>...</td>\n      <td>...</td>\n    </tr>\n    <tr>\n      <th>4995</th>\n      <td>Gold</td>\n      <td>2019-08-13</td>\n      <td>1556.2</td>\n      <td>1571.7</td>\n      <td>1523.1</td>\n      <td>1547.7</td>\n      <td>65</td>\n    </tr>\n    <tr>\n      <th>4996</th>\n      <td>Gold</td>\n      <td>2019-08-14</td>\n      <td>1538.5</td>\n      <td>1553.1</td>\n      <td>1532.6</td>\n      <td>1561.0</td>\n      <td>238</td>\n    </tr>\n    <tr>\n      <th>4997</th>\n      <td>Gold</td>\n      <td>2019-08-15</td>\n      <td>1553.0</td>\n      <td>1561.2</td>\n      <td>1546.0</td>\n      <td>1563.7</td>\n      <td>291</td>\n    </tr>\n    <tr>\n      <th>4998</th>\n      <td>Gold</td>\n      <td>2019-08-16</td>\n      <td>1557.4</td>\n      <td>1557.7</td>\n      <td>1541.3</td>\n      <td>1556.2</td>\n      <td>163</td>\n    </tr>\n    <tr>\n      <th>4999</th>\n      <td>Gold</td>\n      <td>2019-08-19</td>\n      <td>1543.9</td>\n      <td>1543.9</td>\n      <td>1531.0</td>\n      <td>1544.0</td>\n      <td>345</td>\n    </tr>\n  </tbody>\n</table>\n<p>5000 rows × 7 columns</p>\n</div>"
     },
     "execution_count": 22,
     "metadata": {},
     "output_type": "execute_result"
    }
   ],
   "source": [
    "train_data = Gold[0:sp]\n",
    "train_data.to_csv('train.csv')\n",
    "train_data"
   ],
   "metadata": {
    "collapsed": false,
    "pycharm": {
     "name": "#%%\n"
    }
   }
  },
  {
   "cell_type": "code",
   "execution_count": 21,
   "outputs": [
    {
     "data": {
      "text/plain": "     Symbol        Date    Open     High      Low   Close  Volume\n5001   Gold  2019-08-21  1532.7  1540.60  1532.70  1548.2     556\n5002   Gold  2019-08-22  1534.3  1538.80  1530.50  1541.1     248\n5003   Gold  2019-08-23  1539.0  1563.50  1537.30  1570.2     258\n5004   Gold  2019-08-26  1584.5  1584.50  1563.20  1569.8      71\n5005   Gold  2019-08-27  1566.2  1579.30  1564.60  1584.5     168\n...     ...         ...     ...      ...      ...     ...     ...\n5688   Gold  2022-03-25  1957.8  1965.10  1942.60  1954.2  147904\n5689   Gold  2022-03-28  1958.7  1959.80  1915.70  1939.8  181367\n5690   Gold  2022-03-29  1922.4  1929.40  1888.30  1912.2  128051\n5691   Gold  2022-03-30  1918.4  1937.00  1914.50  1933.5   17765\n5692   Gold  2022-03-31  1932.5  1932.65  1918.95  1919.7       0\n\n[692 rows x 7 columns]",
      "text/html": "<div>\n<style scoped>\n    .dataframe tbody tr th:only-of-type {\n        vertical-align: middle;\n    }\n\n    .dataframe tbody tr th {\n        vertical-align: top;\n    }\n\n    .dataframe thead th {\n        text-align: right;\n    }\n</style>\n<table border=\"1\" class=\"dataframe\">\n  <thead>\n    <tr style=\"text-align: right;\">\n      <th></th>\n      <th>Symbol</th>\n      <th>Date</th>\n      <th>Open</th>\n      <th>High</th>\n      <th>Low</th>\n      <th>Close</th>\n      <th>Volume</th>\n    </tr>\n  </thead>\n  <tbody>\n    <tr>\n      <th>5001</th>\n      <td>Gold</td>\n      <td>2019-08-21</td>\n      <td>1532.7</td>\n      <td>1540.60</td>\n      <td>1532.70</td>\n      <td>1548.2</td>\n      <td>556</td>\n    </tr>\n    <tr>\n      <th>5002</th>\n      <td>Gold</td>\n      <td>2019-08-22</td>\n      <td>1534.3</td>\n      <td>1538.80</td>\n      <td>1530.50</td>\n      <td>1541.1</td>\n      <td>248</td>\n    </tr>\n    <tr>\n      <th>5003</th>\n      <td>Gold</td>\n      <td>2019-08-23</td>\n      <td>1539.0</td>\n      <td>1563.50</td>\n      <td>1537.30</td>\n      <td>1570.2</td>\n      <td>258</td>\n    </tr>\n    <tr>\n      <th>5004</th>\n      <td>Gold</td>\n      <td>2019-08-26</td>\n      <td>1584.5</td>\n      <td>1584.50</td>\n      <td>1563.20</td>\n      <td>1569.8</td>\n      <td>71</td>\n    </tr>\n    <tr>\n      <th>5005</th>\n      <td>Gold</td>\n      <td>2019-08-27</td>\n      <td>1566.2</td>\n      <td>1579.30</td>\n      <td>1564.60</td>\n      <td>1584.5</td>\n      <td>168</td>\n    </tr>\n    <tr>\n      <th>...</th>\n      <td>...</td>\n      <td>...</td>\n      <td>...</td>\n      <td>...</td>\n      <td>...</td>\n      <td>...</td>\n      <td>...</td>\n    </tr>\n    <tr>\n      <th>5688</th>\n      <td>Gold</td>\n      <td>2022-03-25</td>\n      <td>1957.8</td>\n      <td>1965.10</td>\n      <td>1942.60</td>\n      <td>1954.2</td>\n      <td>147904</td>\n    </tr>\n    <tr>\n      <th>5689</th>\n      <td>Gold</td>\n      <td>2022-03-28</td>\n      <td>1958.7</td>\n      <td>1959.80</td>\n      <td>1915.70</td>\n      <td>1939.8</td>\n      <td>181367</td>\n    </tr>\n    <tr>\n      <th>5690</th>\n      <td>Gold</td>\n      <td>2022-03-29</td>\n      <td>1922.4</td>\n      <td>1929.40</td>\n      <td>1888.30</td>\n      <td>1912.2</td>\n      <td>128051</td>\n    </tr>\n    <tr>\n      <th>5691</th>\n      <td>Gold</td>\n      <td>2022-03-30</td>\n      <td>1918.4</td>\n      <td>1937.00</td>\n      <td>1914.50</td>\n      <td>1933.5</td>\n      <td>17765</td>\n    </tr>\n    <tr>\n      <th>5692</th>\n      <td>Gold</td>\n      <td>2022-03-31</td>\n      <td>1932.5</td>\n      <td>1932.65</td>\n      <td>1918.95</td>\n      <td>1919.7</td>\n      <td>0</td>\n    </tr>\n  </tbody>\n</table>\n<p>692 rows × 7 columns</p>\n</div>"
     },
     "execution_count": 21,
     "metadata": {},
     "output_type": "execute_result"
    }
   ],
   "source": [
    "test_data = Gold[sp+1:]\n",
    "test_data.to_csv('train.csv')\n",
    "test_data"
   ],
   "metadata": {
    "collapsed": false,
    "pycharm": {
     "name": "#%%\n"
    }
   }
  },
  {
   "cell_type": "code",
   "execution_count": 19,
   "outputs": [],
   "source": [
    "test_data.to_csv(\"test.csv\")"
   ],
   "metadata": {
    "collapsed": false,
    "pycharm": {
     "name": "#%%\n"
    }
   }
  },
  {
   "cell_type": "code",
   "execution_count": 19,
   "outputs": [],
   "source": [],
   "metadata": {
    "collapsed": false,
    "pycharm": {
     "name": "#%%\n"
    }
   }
  }
 ],
 "metadata": {
  "kernelspec": {
   "display_name": "Python 3",
   "language": "python",
   "name": "python3"
  },
  "language_info": {
   "codemirror_mode": {
    "name": "ipython",
    "version": 2
   },
   "file_extension": ".py",
   "mimetype": "text/x-python",
   "name": "python",
   "nbconvert_exporter": "python",
   "pygments_lexer": "ipython2",
   "version": "2.7.6"
  }
 },
 "nbformat": 4,
 "nbformat_minor": 0
}